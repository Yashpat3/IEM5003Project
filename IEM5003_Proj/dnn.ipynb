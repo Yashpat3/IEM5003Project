{
 "cells": [
  {
   "cell_type": "markdown",
   "id": "517cd5cb",
   "metadata": {},
   "source": [
    "Linear Regrassor for Intial reading"
   ]
  },
  {
   "cell_type": "code",
   "execution_count": 1,
   "id": "b9b07853",
   "metadata": {},
   "outputs": [],
   "source": [
    "import numpy as np\n",
    "import csv, os\n",
    "from sklearn.linear_model import LinearRegression\n",
    "import scipy.stats as stats"
   ]
  },
  {
   "cell_type": "code",
   "execution_count": null,
   "id": "3ecc6b0c",
   "metadata": {},
   "outputs": [],
   "source": [
    "class LinearRegrassor:\n",
    "    def __init__ (self) -> None:\n",
    "        super(LinearRegrassor, self).__init__\n",
    "        self.X_train, self.Y_train, self.X_test, self.Y_test, self.Y_pred = None, None, None, None, None\n",
    "        self.regressor, self.params, self.score, self.accuracy = None, None, None, None\n",
    "        \n",
    "    def load_data (self , trainData , testData)\n",
    "        self.X_train, self.Y_train = self.readData(trainData)\n",
    "        self.X_test, self.Y_test = self.readData(testData)\n",
    "        \n",
    "    def readData (filename):\n",
    "        X = []\n",
    "        Y = []\n",
    "        open (filename) as file\n",
    "        for line in csv.reader(file , delimiter = \",\")\n",
    "            X.append (line [:-1])\n",
    "            Y.appent (line [-1])\n",
    "            \n",
    "        X = np.array(X, dtype = \"float\")\n",
    "        Y = np.array(Y, dtype = \"float\")\n",
    "        return X, Y\n",
    "    \n",
    "    def training (self):\n",
    "        self.reg = LinearRegression()\n",
    "        self.reg.fit(self.X_train, self.Y_train)\n",
    "        \n",
    "    def predict (self):\n",
    "        self.Y_pred = (self.reg.predict(self.X_test))\n",
    "        \n",
    "    def"
   ]
  },
  {
   "cell_type": "code",
   "execution_count": null,
   "id": "a90cdca7",
   "metadata": {},
   "outputs": [],
   "source": [
    "def load_data (self , trainData , testData)\n",
    "        self.X_train, self.Y_train = self.readData(trainData)\n",
    "        self.X_test, self.Y_test = self.readData(testData)"
   ]
  }
 ],
 "metadata": {
  "kernelspec": {
   "display_name": "Python 3 (ipykernel)",
   "language": "python",
   "name": "python3"
  },
  "language_info": {
   "codemirror_mode": {
    "name": "ipython",
    "version": 3
   },
   "file_extension": ".py",
   "mimetype": "text/x-python",
   "name": "python",
   "nbconvert_exporter": "python",
   "pygments_lexer": "ipython3",
   "version": "3.9.7"
  }
 },
 "nbformat": 4,
 "nbformat_minor": 5
}
