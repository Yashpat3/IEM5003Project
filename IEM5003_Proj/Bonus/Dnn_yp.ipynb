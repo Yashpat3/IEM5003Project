{
  "cells": [
    {
      "cell_type": "markdown",
      "metadata": {
        "id": "view-in-github",
        "colab_type": "text"
      },
      "source": [
        "<a href=\"https://colab.research.google.com/github/Yashpat3/OSU/blob/master/IEM5003_Proj/Bonus/Dnn_yp.ipynb\" target=\"_parent\"><img src=\"https://colab.research.google.com/assets/colab-badge.svg\" alt=\"Open In Colab\"/></a>"
      ]
    },
    {
      "cell_type": "code",
      "execution_count": 22,
      "metadata": {
        "id": "7YjAAerbShc5"
      },
      "outputs": [],
      "source": [
        "import numpy as np\n",
        "import csv, os\n",
        "from sklearn.linear_model import LinearRegression\n",
        "from sklearn.linear_model import LogisticRegression\n",
        "import scipy.stats as stats"
      ]
    },
    {
      "cell_type": "markdown",
      "source": [
        "Reading Data"
      ],
      "metadata": {
        "id": "DyUeBEDGdfcV"
      }
    },
    {
      "cell_type": "code",
      "execution_count": 23,
      "metadata": {
        "id": "98HED1nGShc7"
      },
      "outputs": [],
      "source": [
        "def readData(filename):\n",
        "    X = []\n",
        "    Y = []\n",
        "    with open (filename) as f:\n",
        "        next (f, None)\n",
        "        for line in csv.reader(f , delimiter = \",\"):\n",
        "            X.append (line [:-1])\n",
        "            Y.append (line [-1])\n",
        "\n",
        "    X = np.array(X, dtype = \"float\")\n",
        "    Y = np.array(Y, dtype = \"float\")\n",
        "\n",
        "    return X, Y\n",
        "\n",
        "X1_train, Y1_train = readData(\"./liver_data_train.csv\")\n",
        "X1_test, Y1_test = readData(\"./liver_data_test.csv\")\n",
        "X2_train, Y2_train = readData(\"./wine_quality_train.csv\")\n",
        "X2_test, Y2_test = readData(\"./wine_quality_test.csv\")"
      ]
    },
    {
      "cell_type": "markdown",
      "source": [
        "Simple Linear Regrassion (Liver Data)"
      ],
      "metadata": {
        "id": "5uH0WHd0ePRh"
      }
    },
    {
      "cell_type": "code",
      "execution_count": 24,
      "metadata": {
        "id": "aIs6MJUDShc8",
        "outputId": "b8a6c094-7cdc-4bce-c0ff-5aa5ad395af2",
        "colab": {
          "base_uri": "https://localhost:8080/"
        }
      },
      "outputs": [
        {
          "output_type": "execute_result",
          "data": {
            "text/plain": [
              "0.17647058823529413"
            ]
          },
          "metadata": {},
          "execution_count": 24
        }
      ],
      "source": [
        "reg = LinearRegression()\n",
        "reg.fit (X1_train, Y1_train)\n",
        "Y1_pred = np.round(reg.predict(X1_test))\n",
        "acc = np.sum(np.equal(Y1_test, Y1_pred))/len(Y1_test)\n",
        "acc"
      ]
    },
    {
      "cell_type": "markdown",
      "source": [
        "Simple Logistic Regrassion (Wine Data)"
      ],
      "metadata": {
        "id": "nR-K9gkmeSuQ"
      }
    },
    {
      "cell_type": "code",
      "source": [
        "reg1 = LogisticRegression()\n",
        "reg.fit (X2_train, Y2_train)\n",
        "Y2_pred = np.round(reg.predict(X2_test))\n",
        "acc = np.sum(np.equal(Y2_test, Y2_pred))/len(Y2_test)\n",
        "acc"
      ],
      "metadata": {
        "id": "-rh47V4HdkoR",
        "outputId": "1317523f-2982-4dcc-b800-bbe2862b6467",
        "colab": {
          "base_uri": "https://localhost:8080/"
        }
      },
      "execution_count": 26,
      "outputs": [
        {
          "output_type": "execute_result",
          "data": {
            "text/plain": [
              "0.7962037962037962"
            ]
          },
          "metadata": {},
          "execution_count": 26
        }
      ]
    },
    {
      "cell_type": "code",
      "execution_count": 27,
      "metadata": {
        "id": "2mPZGITPShc9"
      },
      "outputs": [],
      "source": [
        "from numpy import loadtxt\n",
        "import tensorflow as tf\n",
        "from tensorflow import keras\n",
        "from keras.models import Sequential\n",
        "from keras.layers import Dense\n",
        "from keras.initializers import HeNormal\n",
        "from keras.initializers import HeUniform"
      ]
    },
    {
      "cell_type": "markdown",
      "source": [
        "DNN for Liver Data"
      ],
      "metadata": {
        "id": "7G82IiF4ea05"
      }
    },
    {
      "cell_type": "code",
      "source": [
        "model = Sequential()\n",
        "model.add (Dense(64, kernel_initializer = HeNormal(), input_dim = X1_train.shape[1],  activation='relu'))\n",
        "model.add (Dense(128, kernel_initializer = HeNormal(seed = 2432), activation='sigmoid'))\n",
        "model.add (Dense(256, kernel_initializer = HeNormal(seed = 5642), activation='relu'))\n",
        "model.add (Dense(2, kernel_initializer = HeNormal(seed = 3452), activation='linear'))\n",
        "model.compile (loss= 'mse', optimizer= 'nadam', metrics= ['accuracy'] )\n",
        "\n",
        "model.fit(X1_train, Y1_train, epochs= 100 , batch_size = 10 , verbose = 1)\n",
        "\n",
        "_, accuracy = model.evaluate(X1_test, Y1_test)\n",
        "print('Accuracy: %.2f' % (accuracy*100))"
      ],
      "metadata": {
        "colab": {
          "base_uri": "https://localhost:8080/"
        },
        "id": "l3Q2zDwRS8WQ",
        "outputId": "32a7d7ed-3687-4dfc-abca-eeef13168398"
      },
      "execution_count": 18,
      "outputs": [
        {
          "output_type": "stream",
          "name": "stdout",
          "text": [
            "Epoch 1/100\n",
            "30/30 [==============================] - 2s 2ms/step - loss: 12.6360 - accuracy: 0.0578\n",
            "Epoch 2/100\n",
            "30/30 [==============================] - 0s 2ms/step - loss: 10.1173 - accuracy: 0.0578\n",
            "Epoch 3/100\n",
            "30/30 [==============================] - 0s 2ms/step - loss: 10.1697 - accuracy: 0.0578\n",
            "Epoch 4/100\n",
            "30/30 [==============================] - 0s 3ms/step - loss: 10.1519 - accuracy: 0.0578\n",
            "Epoch 5/100\n",
            "30/30 [==============================] - 0s 2ms/step - loss: 9.9703 - accuracy: 0.0578\n",
            "Epoch 6/100\n",
            "30/30 [==============================] - 0s 2ms/step - loss: 9.9737 - accuracy: 0.0578\n",
            "Epoch 7/100\n",
            "30/30 [==============================] - 0s 3ms/step - loss: 9.9309 - accuracy: 0.0578\n",
            "Epoch 8/100\n",
            "30/30 [==============================] - 0s 2ms/step - loss: 10.2300 - accuracy: 0.0578\n",
            "Epoch 9/100\n",
            "30/30 [==============================] - 0s 2ms/step - loss: 10.0650 - accuracy: 0.0578\n",
            "Epoch 10/100\n",
            "30/30 [==============================] - 0s 2ms/step - loss: 9.8190 - accuracy: 0.0578\n",
            "Epoch 11/100\n",
            "30/30 [==============================] - 0s 3ms/step - loss: 9.4770 - accuracy: 0.0578\n",
            "Epoch 12/100\n",
            "30/30 [==============================] - 0s 2ms/step - loss: 9.7611 - accuracy: 0.0578\n",
            "Epoch 13/100\n",
            "30/30 [==============================] - 0s 2ms/step - loss: 10.0202 - accuracy: 0.0578\n",
            "Epoch 14/100\n",
            "30/30 [==============================] - 0s 3ms/step - loss: 9.5463 - accuracy: 0.0578\n",
            "Epoch 15/100\n",
            "30/30 [==============================] - 0s 3ms/step - loss: 9.7013 - accuracy: 0.0578\n",
            "Epoch 16/100\n",
            "30/30 [==============================] - 0s 3ms/step - loss: 9.7389 - accuracy: 0.0578\n",
            "Epoch 17/100\n",
            "30/30 [==============================] - 0s 3ms/step - loss: 9.7571 - accuracy: 0.0578\n",
            "Epoch 18/100\n",
            "30/30 [==============================] - 0s 2ms/step - loss: 9.8474 - accuracy: 0.0578\n",
            "Epoch 19/100\n",
            "30/30 [==============================] - 0s 2ms/step - loss: 9.5471 - accuracy: 0.0578\n",
            "Epoch 20/100\n",
            "30/30 [==============================] - 0s 2ms/step - loss: 9.4265 - accuracy: 0.0578\n",
            "Epoch 21/100\n",
            "30/30 [==============================] - 0s 3ms/step - loss: 9.3898 - accuracy: 0.0578\n",
            "Epoch 22/100\n",
            "30/30 [==============================] - 0s 2ms/step - loss: 9.6376 - accuracy: 0.0578\n",
            "Epoch 23/100\n",
            "30/30 [==============================] - 0s 2ms/step - loss: 9.3568 - accuracy: 0.0578\n",
            "Epoch 24/100\n",
            "30/30 [==============================] - 0s 3ms/step - loss: 10.0226 - accuracy: 0.0578\n",
            "Epoch 25/100\n",
            "30/30 [==============================] - 0s 2ms/step - loss: 9.5828 - accuracy: 0.0578\n",
            "Epoch 26/100\n",
            "30/30 [==============================] - 0s 2ms/step - loss: 9.6763 - accuracy: 0.0578\n",
            "Epoch 27/100\n",
            "30/30 [==============================] - 0s 3ms/step - loss: 9.4755 - accuracy: 0.0578\n",
            "Epoch 28/100\n",
            "30/30 [==============================] - 0s 2ms/step - loss: 9.3876 - accuracy: 0.0544\n",
            "Epoch 29/100\n",
            "30/30 [==============================] - 0s 3ms/step - loss: 9.3228 - accuracy: 0.0578\n",
            "Epoch 30/100\n",
            "30/30 [==============================] - 0s 3ms/step - loss: 9.1608 - accuracy: 0.0578\n",
            "Epoch 31/100\n",
            "30/30 [==============================] - 0s 3ms/step - loss: 9.6455 - accuracy: 0.0578\n",
            "Epoch 32/100\n",
            "30/30 [==============================] - 0s 2ms/step - loss: 9.2158 - accuracy: 0.0578\n",
            "Epoch 33/100\n",
            "30/30 [==============================] - 0s 3ms/step - loss: 9.6484 - accuracy: 0.0578\n",
            "Epoch 34/100\n",
            "30/30 [==============================] - 0s 2ms/step - loss: 9.2561 - accuracy: 0.0578\n",
            "Epoch 35/100\n",
            "30/30 [==============================] - 0s 2ms/step - loss: 9.4215 - accuracy: 0.0578\n",
            "Epoch 36/100\n",
            "30/30 [==============================] - 0s 2ms/step - loss: 9.9952 - accuracy: 0.0578\n",
            "Epoch 37/100\n",
            "30/30 [==============================] - 0s 3ms/step - loss: 9.2857 - accuracy: 0.0578\n",
            "Epoch 38/100\n",
            "30/30 [==============================] - 0s 2ms/step - loss: 9.4134 - accuracy: 0.0578\n",
            "Epoch 39/100\n",
            "30/30 [==============================] - 0s 2ms/step - loss: 9.0200 - accuracy: 0.0578\n",
            "Epoch 40/100\n",
            "30/30 [==============================] - 0s 2ms/step - loss: 9.2421 - accuracy: 0.0578\n",
            "Epoch 41/100\n",
            "30/30 [==============================] - 0s 3ms/step - loss: 9.3107 - accuracy: 0.0578\n",
            "Epoch 42/100\n",
            "30/30 [==============================] - 0s 2ms/step - loss: 9.2494 - accuracy: 0.0578\n",
            "Epoch 43/100\n",
            "30/30 [==============================] - 0s 3ms/step - loss: 9.5619 - accuracy: 0.0578\n",
            "Epoch 44/100\n",
            "30/30 [==============================] - 0s 3ms/step - loss: 9.4444 - accuracy: 0.0578\n",
            "Epoch 45/100\n",
            "30/30 [==============================] - 0s 2ms/step - loss: 9.2786 - accuracy: 0.0578\n",
            "Epoch 46/100\n",
            "30/30 [==============================] - 0s 2ms/step - loss: 8.9921 - accuracy: 0.0578\n",
            "Epoch 47/100\n",
            "30/30 [==============================] - 0s 3ms/step - loss: 8.9509 - accuracy: 0.0578\n",
            "Epoch 48/100\n",
            "30/30 [==============================] - 0s 3ms/step - loss: 9.5144 - accuracy: 0.0578\n",
            "Epoch 49/100\n",
            "30/30 [==============================] - 0s 2ms/step - loss: 8.9823 - accuracy: 0.0578\n",
            "Epoch 50/100\n",
            "30/30 [==============================] - 0s 2ms/step - loss: 8.7727 - accuracy: 0.0578\n",
            "Epoch 51/100\n",
            "30/30 [==============================] - 0s 3ms/step - loss: 8.9859 - accuracy: 0.0578\n",
            "Epoch 52/100\n",
            "30/30 [==============================] - 0s 2ms/step - loss: 9.0156 - accuracy: 0.0578\n",
            "Epoch 53/100\n",
            "30/30 [==============================] - 0s 3ms/step - loss: 9.0654 - accuracy: 0.0578\n",
            "Epoch 54/100\n",
            "30/30 [==============================] - 0s 3ms/step - loss: 8.9810 - accuracy: 0.0578\n",
            "Epoch 55/100\n",
            "30/30 [==============================] - 0s 3ms/step - loss: 8.9032 - accuracy: 0.0578\n",
            "Epoch 56/100\n",
            "30/30 [==============================] - 0s 3ms/step - loss: 8.7935 - accuracy: 0.0578\n",
            "Epoch 57/100\n",
            "30/30 [==============================] - 0s 2ms/step - loss: 8.6027 - accuracy: 0.0578\n",
            "Epoch 58/100\n",
            "30/30 [==============================] - 0s 2ms/step - loss: 8.9893 - accuracy: 0.0578\n",
            "Epoch 59/100\n",
            "30/30 [==============================] - 0s 2ms/step - loss: 8.6951 - accuracy: 0.0578\n",
            "Epoch 60/100\n",
            "30/30 [==============================] - 0s 3ms/step - loss: 8.9898 - accuracy: 0.0544\n",
            "Epoch 61/100\n",
            "30/30 [==============================] - 0s 3ms/step - loss: 8.8320 - accuracy: 0.0578\n",
            "Epoch 62/100\n",
            "30/30 [==============================] - 0s 3ms/step - loss: 9.3150 - accuracy: 0.0578\n",
            "Epoch 63/100\n",
            "30/30 [==============================] - 0s 2ms/step - loss: 9.2587 - accuracy: 0.0578\n",
            "Epoch 64/100\n",
            "30/30 [==============================] - 0s 3ms/step - loss: 9.4308 - accuracy: 0.0578\n",
            "Epoch 65/100\n",
            "30/30 [==============================] - 0s 4ms/step - loss: 9.1105 - accuracy: 0.0578\n",
            "Epoch 66/100\n",
            "30/30 [==============================] - 0s 4ms/step - loss: 9.2264 - accuracy: 0.0578\n",
            "Epoch 67/100\n",
            "30/30 [==============================] - 0s 4ms/step - loss: 9.1286 - accuracy: 0.0578\n",
            "Epoch 68/100\n",
            "30/30 [==============================] - 0s 4ms/step - loss: 9.6480 - accuracy: 0.0578\n",
            "Epoch 69/100\n",
            "30/30 [==============================] - 0s 4ms/step - loss: 9.6938 - accuracy: 0.0578\n",
            "Epoch 70/100\n",
            "30/30 [==============================] - 0s 4ms/step - loss: 9.2812 - accuracy: 0.0578\n",
            "Epoch 71/100\n",
            "30/30 [==============================] - 0s 4ms/step - loss: 8.9335 - accuracy: 0.0578\n",
            "Epoch 72/100\n",
            "30/30 [==============================] - 0s 4ms/step - loss: 8.7712 - accuracy: 0.0578\n",
            "Epoch 73/100\n",
            "30/30 [==============================] - 0s 8ms/step - loss: 9.0929 - accuracy: 0.0578\n",
            "Epoch 74/100\n",
            "30/30 [==============================] - 0s 4ms/step - loss: 8.7496 - accuracy: 0.0578\n",
            "Epoch 75/100\n",
            "30/30 [==============================] - 0s 3ms/step - loss: 9.4396 - accuracy: 0.0578\n",
            "Epoch 76/100\n",
            "30/30 [==============================] - 0s 4ms/step - loss: 9.2586 - accuracy: 0.0578\n",
            "Epoch 77/100\n",
            "30/30 [==============================] - 0s 4ms/step - loss: 8.8291 - accuracy: 0.0578\n",
            "Epoch 78/100\n",
            "30/30 [==============================] - 0s 4ms/step - loss: 9.1565 - accuracy: 0.0578\n",
            "Epoch 79/100\n",
            "30/30 [==============================] - 0s 4ms/step - loss: 8.9689 - accuracy: 0.0578\n",
            "Epoch 80/100\n",
            "30/30 [==============================] - 0s 4ms/step - loss: 8.6708 - accuracy: 0.0578\n",
            "Epoch 81/100\n",
            "30/30 [==============================] - 0s 4ms/step - loss: 8.6785 - accuracy: 0.0578\n",
            "Epoch 82/100\n",
            "30/30 [==============================] - 0s 4ms/step - loss: 9.0879 - accuracy: 0.0578\n",
            "Epoch 83/100\n",
            "30/30 [==============================] - 0s 4ms/step - loss: 8.8793 - accuracy: 0.0578\n",
            "Epoch 84/100\n",
            "30/30 [==============================] - 0s 4ms/step - loss: 8.5517 - accuracy: 0.0578\n",
            "Epoch 85/100\n",
            "30/30 [==============================] - 0s 3ms/step - loss: 8.7722 - accuracy: 0.0578\n",
            "Epoch 86/100\n",
            "30/30 [==============================] - 0s 4ms/step - loss: 8.7582 - accuracy: 0.0578\n",
            "Epoch 87/100\n",
            "30/30 [==============================] - 0s 4ms/step - loss: 8.7074 - accuracy: 0.0578\n",
            "Epoch 88/100\n",
            "30/30 [==============================] - 0s 6ms/step - loss: 9.2134 - accuracy: 0.0578\n",
            "Epoch 89/100\n",
            "30/30 [==============================] - 0s 7ms/step - loss: 8.8872 - accuracy: 0.0578\n",
            "Epoch 90/100\n",
            "30/30 [==============================] - 0s 5ms/step - loss: 8.6919 - accuracy: 0.0578\n",
            "Epoch 91/100\n",
            "30/30 [==============================] - 0s 6ms/step - loss: 9.1579 - accuracy: 0.0578\n",
            "Epoch 92/100\n",
            "30/30 [==============================] - 0s 5ms/step - loss: 9.2790 - accuracy: 0.0578\n",
            "Epoch 93/100\n",
            "30/30 [==============================] - 0s 6ms/step - loss: 8.9696 - accuracy: 0.0578\n",
            "Epoch 94/100\n",
            "30/30 [==============================] - 0s 6ms/step - loss: 9.2187 - accuracy: 0.0578\n",
            "Epoch 95/100\n",
            "30/30 [==============================] - 0s 4ms/step - loss: 8.7307 - accuracy: 0.0578\n",
            "Epoch 96/100\n",
            "30/30 [==============================] - 0s 5ms/step - loss: 8.8778 - accuracy: 0.0578\n",
            "Epoch 97/100\n",
            "30/30 [==============================] - 0s 4ms/step - loss: 8.6257 - accuracy: 0.0578\n",
            "Epoch 98/100\n",
            "30/30 [==============================] - 0s 5ms/step - loss: 8.5042 - accuracy: 0.0578\n",
            "Epoch 99/100\n",
            "30/30 [==============================] - 0s 6ms/step - loss: 8.7392 - accuracy: 0.0578\n",
            "Epoch 100/100\n",
            "30/30 [==============================] - 0s 5ms/step - loss: 8.8227 - accuracy: 0.0578\n",
            "2/2 [==============================] - 0s 8ms/step - loss: 9.2083 - accuracy: 0.0000e+00\n",
            "Accuracy: 0.00\n"
          ]
        }
      ]
    },
    {
      "cell_type": "markdown",
      "source": [
        "DNN for Wine Data"
      ],
      "metadata": {
        "id": "Cxg9ZI-0edpc"
      }
    },
    {
      "cell_type": "code",
      "source": [
        "model = Sequential()\n",
        "model.add (Dense(64, kernel_initializer = HeNormal(), input_dim = X2_train.shape[1],  activation='relu'))\n",
        "model.add (Dense(128, kernel_initializer = HeNormal(seed = 2432), activation='sigmoid'))\n",
        "model.add (Dense(256, kernel_initializer = HeNormal(seed = 5642), activation='relu'))\n",
        "model.add (Dense(2, kernel_initializer = HeNormal(seed = 3452), activation='sigmoid'))\n",
        "model.compile (loss= 'mse', optimizer= 'nadam', metrics= ['accuracy'] )\n",
        "\n",
        "model.fit(X2_train, Y2_train, epochs= 100 , batch_size = 10 , verbose = 1)\n",
        "\n",
        "_, accuracy = model.evaluate(X2_test, Y2_test)\n",
        "print('Accuracy: %.2f' % (accuracy*100))"
      ],
      "metadata": {
        "id": "FWxO66CndIYY",
        "outputId": "92f6a10f-db04-459e-bc30-9ccf62796a75",
        "colab": {
          "base_uri": "https://localhost:8080/"
        }
      },
      "execution_count": 20,
      "outputs": [
        {
          "output_type": "stream",
          "name": "stdout",
          "text": [
            "Epoch 1/100\n",
            "300/300 [==============================] - 2s 2ms/step - loss: 0.1681 - accuracy: 0.5245\n",
            "Epoch 2/100\n",
            "300/300 [==============================] - 1s 2ms/step - loss: 0.1639 - accuracy: 0.5589\n",
            "Epoch 3/100\n",
            "300/300 [==============================] - 1s 2ms/step - loss: 0.1637 - accuracy: 0.5579\n",
            "Epoch 4/100\n",
            "300/300 [==============================] - 1s 2ms/step - loss: 0.1640 - accuracy: 0.5065\n",
            "Epoch 5/100\n",
            "300/300 [==============================] - 1s 2ms/step - loss: 0.1661 - accuracy: 0.4732\n",
            "Epoch 6/100\n",
            "300/300 [==============================] - 1s 2ms/step - loss: 0.1652 - accuracy: 0.5285\n",
            "Epoch 7/100\n",
            "300/300 [==============================] - 1s 2ms/step - loss: 0.1632 - accuracy: 0.5629\n",
            "Epoch 8/100\n",
            "300/300 [==============================] - 1s 2ms/step - loss: 0.1658 - accuracy: 0.5315\n",
            "Epoch 9/100\n",
            "300/300 [==============================] - 1s 2ms/step - loss: 0.1647 - accuracy: 0.5395\n",
            "Epoch 10/100\n",
            "300/300 [==============================] - 1s 3ms/step - loss: 0.1629 - accuracy: 0.5465\n",
            "Epoch 11/100\n",
            "300/300 [==============================] - 1s 4ms/step - loss: 0.1640 - accuracy: 0.5268\n",
            "Epoch 12/100\n",
            "300/300 [==============================] - 1s 4ms/step - loss: 0.1654 - accuracy: 0.5478\n",
            "Epoch 13/100\n",
            "300/300 [==============================] - 1s 4ms/step - loss: 0.1654 - accuracy: 0.5682\n",
            "Epoch 14/100\n",
            "300/300 [==============================] - 1s 3ms/step - loss: 0.1651 - accuracy: 0.5665\n",
            "Epoch 15/100\n",
            "300/300 [==============================] - 1s 2ms/step - loss: 0.1635 - accuracy: 0.5325\n",
            "Epoch 16/100\n",
            "300/300 [==============================] - 1s 2ms/step - loss: 0.1591 - accuracy: 0.5602\n",
            "Epoch 17/100\n",
            "300/300 [==============================] - 1s 2ms/step - loss: 0.1576 - accuracy: 0.4658\n",
            "Epoch 18/100\n",
            "300/300 [==============================] - 1s 2ms/step - loss: 0.1566 - accuracy: 0.4662\n",
            "Epoch 19/100\n",
            "300/300 [==============================] - 1s 2ms/step - loss: 0.1641 - accuracy: 0.4605\n",
            "Epoch 20/100\n",
            "300/300 [==============================] - 1s 2ms/step - loss: 0.1623 - accuracy: 0.4481\n",
            "Epoch 21/100\n",
            "300/300 [==============================] - 1s 2ms/step - loss: 0.1618 - accuracy: 0.4481\n",
            "Epoch 22/100\n",
            "300/300 [==============================] - 1s 2ms/step - loss: 0.1620 - accuracy: 0.5045\n",
            "Epoch 23/100\n",
            "300/300 [==============================] - 1s 2ms/step - loss: 0.1614 - accuracy: 0.4545\n",
            "Epoch 24/100\n",
            "300/300 [==============================] - 1s 2ms/step - loss: 0.1605 - accuracy: 0.5545\n",
            "Epoch 25/100\n",
            "300/300 [==============================] - 1s 2ms/step - loss: 0.1589 - accuracy: 0.4878\n",
            "Epoch 26/100\n",
            "300/300 [==============================] - 1s 2ms/step - loss: 0.1571 - accuracy: 0.4922\n",
            "Epoch 27/100\n",
            "300/300 [==============================] - 1s 2ms/step - loss: 0.1572 - accuracy: 0.5312\n",
            "Epoch 28/100\n",
            "300/300 [==============================] - 1s 4ms/step - loss: 0.1574 - accuracy: 0.5278\n",
            "Epoch 29/100\n",
            "300/300 [==============================] - 1s 4ms/step - loss: 0.1563 - accuracy: 0.4875\n",
            "Epoch 30/100\n",
            "300/300 [==============================] - 1s 4ms/step - loss: 0.1566 - accuracy: 0.4298\n",
            "Epoch 31/100\n",
            "300/300 [==============================] - 1s 3ms/step - loss: 0.1588 - accuracy: 0.5262\n",
            "Epoch 32/100\n",
            "300/300 [==============================] - 1s 2ms/step - loss: 0.1574 - accuracy: 0.5225\n",
            "Epoch 33/100\n",
            "300/300 [==============================] - 1s 2ms/step - loss: 0.1553 - accuracy: 0.4948\n",
            "Epoch 34/100\n",
            "300/300 [==============================] - 1s 2ms/step - loss: 0.1558 - accuracy: 0.5228\n",
            "Epoch 35/100\n",
            "300/300 [==============================] - 1s 2ms/step - loss: 0.1578 - accuracy: 0.4345\n",
            "Epoch 36/100\n",
            "300/300 [==============================] - 1s 2ms/step - loss: 0.1558 - accuracy: 0.5315\n",
            "Epoch 37/100\n",
            "300/300 [==============================] - 1s 2ms/step - loss: 0.1557 - accuracy: 0.4915\n",
            "Epoch 38/100\n",
            "300/300 [==============================] - 1s 2ms/step - loss: 0.1543 - accuracy: 0.4255\n",
            "Epoch 39/100\n",
            "300/300 [==============================] - 1s 2ms/step - loss: 0.1564 - accuracy: 0.4001\n",
            "Epoch 40/100\n",
            "300/300 [==============================] - 1s 2ms/step - loss: 0.1536 - accuracy: 0.4728\n",
            "Epoch 41/100\n",
            "300/300 [==============================] - 1s 2ms/step - loss: 0.1549 - accuracy: 0.6175\n",
            "Epoch 42/100\n",
            "300/300 [==============================] - 1s 3ms/step - loss: 0.1532 - accuracy: 0.5849\n",
            "Epoch 43/100\n",
            "300/300 [==============================] - 1s 3ms/step - loss: 0.1533 - accuracy: 0.6229\n",
            "Epoch 44/100\n",
            "300/300 [==============================] - 2s 6ms/step - loss: 0.1548 - accuracy: 0.5005\n",
            "Epoch 45/100\n",
            "300/300 [==============================] - 2s 7ms/step - loss: 0.1519 - accuracy: 0.4935\n",
            "Epoch 46/100\n",
            "300/300 [==============================] - 2s 5ms/step - loss: 0.1516 - accuracy: 0.5882\n",
            "Epoch 47/100\n",
            "300/300 [==============================] - 1s 4ms/step - loss: 0.1533 - accuracy: 0.6239\n",
            "Epoch 48/100\n",
            "300/300 [==============================] - 1s 3ms/step - loss: 0.1531 - accuracy: 0.4765\n",
            "Epoch 49/100\n",
            "300/300 [==============================] - 1s 3ms/step - loss: 0.1531 - accuracy: 0.5145\n",
            "Epoch 50/100\n",
            "300/300 [==============================] - 1s 4ms/step - loss: 0.1551 - accuracy: 0.4338\n",
            "Epoch 51/100\n",
            "300/300 [==============================] - 1s 3ms/step - loss: 0.1525 - accuracy: 0.6572\n",
            "Epoch 52/100\n",
            "300/300 [==============================] - 1s 3ms/step - loss: 0.1504 - accuracy: 0.6209\n",
            "Epoch 53/100\n",
            "300/300 [==============================] - 1s 3ms/step - loss: 0.1536 - accuracy: 0.4208\n",
            "Epoch 54/100\n",
            "300/300 [==============================] - 1s 3ms/step - loss: 0.1525 - accuracy: 0.5102\n",
            "Epoch 55/100\n",
            "300/300 [==============================] - 1s 4ms/step - loss: 0.1516 - accuracy: 0.4385\n",
            "Epoch 56/100\n",
            "300/300 [==============================] - 1s 5ms/step - loss: 0.1504 - accuracy: 0.5052\n",
            "Epoch 57/100\n",
            "300/300 [==============================] - 2s 6ms/step - loss: 0.1515 - accuracy: 0.4638\n",
            "Epoch 58/100\n",
            "300/300 [==============================] - 1s 5ms/step - loss: 0.1535 - accuracy: 0.5198\n",
            "Epoch 59/100\n",
            "300/300 [==============================] - 1s 2ms/step - loss: 0.1532 - accuracy: 0.4532\n",
            "Epoch 60/100\n",
            "300/300 [==============================] - 1s 3ms/step - loss: 0.1527 - accuracy: 0.4011\n",
            "Epoch 61/100\n",
            "300/300 [==============================] - 1s 5ms/step - loss: 0.1509 - accuracy: 0.3528\n",
            "Epoch 62/100\n",
            "300/300 [==============================] - 2s 6ms/step - loss: 0.1515 - accuracy: 0.4281\n",
            "Epoch 63/100\n",
            "300/300 [==============================] - 2s 5ms/step - loss: 0.1513 - accuracy: 0.4228\n",
            "Epoch 64/100\n",
            "300/300 [==============================] - 1s 4ms/step - loss: 0.1512 - accuracy: 0.5505\n",
            "Epoch 65/100\n",
            "300/300 [==============================] - 1s 4ms/step - loss: 0.1492 - accuracy: 0.5072\n",
            "Epoch 66/100\n",
            "300/300 [==============================] - 1s 2ms/step - loss: 0.1510 - accuracy: 0.5172\n",
            "Epoch 67/100\n",
            "300/300 [==============================] - 1s 4ms/step - loss: 0.1485 - accuracy: 0.6282\n",
            "Epoch 68/100\n",
            "300/300 [==============================] - 1s 4ms/step - loss: 0.1483 - accuracy: 0.5689\n",
            "Epoch 69/100\n",
            "300/300 [==============================] - 1s 5ms/step - loss: 0.1493 - accuracy: 0.5285\n",
            "Epoch 70/100\n",
            "300/300 [==============================] - 2s 7ms/step - loss: 0.1503 - accuracy: 0.5769\n",
            "Epoch 71/100\n",
            "300/300 [==============================] - 2s 6ms/step - loss: 0.1493 - accuracy: 0.4228\n",
            "Epoch 72/100\n",
            "300/300 [==============================] - 1s 4ms/step - loss: 0.1490 - accuracy: 0.5215\n",
            "Epoch 73/100\n",
            "300/300 [==============================] - 1s 4ms/step - loss: 0.1509 - accuracy: 0.5342\n",
            "Epoch 74/100\n",
            "300/300 [==============================] - 1s 4ms/step - loss: 0.1527 - accuracy: 0.6546\n",
            "Epoch 75/100\n",
            "300/300 [==============================] - 1s 5ms/step - loss: 0.1531 - accuracy: 0.5218\n",
            "Epoch 76/100\n",
            "300/300 [==============================] - 1s 4ms/step - loss: 0.1486 - accuracy: 0.5805\n",
            "Epoch 77/100\n",
            "300/300 [==============================] - 1s 5ms/step - loss: 0.1495 - accuracy: 0.5338\n",
            "Epoch 78/100\n",
            "300/300 [==============================] - 1s 5ms/step - loss: 0.1477 - accuracy: 0.6079\n",
            "Epoch 79/100\n",
            "300/300 [==============================] - 1s 4ms/step - loss: 0.1469 - accuracy: 0.5452\n",
            "Epoch 80/100\n",
            "300/300 [==============================] - 1s 5ms/step - loss: 0.1492 - accuracy: 0.5749\n",
            "Epoch 81/100\n",
            "300/300 [==============================] - 2s 6ms/step - loss: 0.1503 - accuracy: 0.4468\n",
            "Epoch 82/100\n",
            "300/300 [==============================] - 1s 4ms/step - loss: 0.1460 - accuracy: 0.5692\n",
            "Epoch 83/100\n",
            "300/300 [==============================] - 2s 5ms/step - loss: 0.1493 - accuracy: 0.5245\n",
            "Epoch 84/100\n",
            "300/300 [==============================] - 2s 7ms/step - loss: 0.1484 - accuracy: 0.5058\n",
            "Epoch 85/100\n",
            "300/300 [==============================] - 1s 4ms/step - loss: 0.1535 - accuracy: 0.5842\n",
            "Epoch 86/100\n",
            "300/300 [==============================] - 1s 2ms/step - loss: 0.1486 - accuracy: 0.5305\n",
            "Epoch 87/100\n",
            "300/300 [==============================] - 1s 3ms/step - loss: 0.1468 - accuracy: 0.4535\n",
            "Epoch 88/100\n",
            "300/300 [==============================] - 1s 4ms/step - loss: 0.1505 - accuracy: 0.4938\n",
            "Epoch 89/100\n",
            "300/300 [==============================] - 1s 4ms/step - loss: 0.1479 - accuracy: 0.5325\n",
            "Epoch 90/100\n",
            "300/300 [==============================] - 1s 4ms/step - loss: 0.1470 - accuracy: 0.5732\n",
            "Epoch 91/100\n",
            "300/300 [==============================] - 1s 3ms/step - loss: 0.1475 - accuracy: 0.4575\n",
            "Epoch 92/100\n",
            "300/300 [==============================] - 1s 2ms/step - loss: 0.1462 - accuracy: 0.4848\n",
            "Epoch 93/100\n",
            "300/300 [==============================] - 1s 2ms/step - loss: 0.1477 - accuracy: 0.4522\n",
            "Epoch 94/100\n",
            "300/300 [==============================] - 1s 2ms/step - loss: 0.1490 - accuracy: 0.5002\n",
            "Epoch 95/100\n",
            "300/300 [==============================] - 1s 2ms/step - loss: 0.1460 - accuracy: 0.4722\n",
            "Epoch 96/100\n",
            "300/300 [==============================] - 1s 2ms/step - loss: 0.1438 - accuracy: 0.3865\n",
            "Epoch 97/100\n",
            "300/300 [==============================] - 1s 2ms/step - loss: 0.1464 - accuracy: 0.6032\n",
            "Epoch 98/100\n",
            "300/300 [==============================] - 1s 2ms/step - loss: 0.1458 - accuracy: 0.6946\n",
            "Epoch 99/100\n",
            "300/300 [==============================] - 1s 2ms/step - loss: 0.1449 - accuracy: 0.5782\n",
            "Epoch 100/100\n",
            "300/300 [==============================] - 1s 2ms/step - loss: 0.1481 - accuracy: 0.4348\n"
          ]
        },
        {
          "output_type": "stream",
          "name": "stderr",
          "text": [
            "WARNING:tensorflow:5 out of the last 9 calls to <function Model.make_test_function.<locals>.test_function at 0x7a9d397a7ac0> triggered tf.function retracing. Tracing is expensive and the excessive number of tracings could be due to (1) creating @tf.function repeatedly in a loop, (2) passing tensors with different shapes, (3) passing Python objects instead of tensors. For (1), please define your @tf.function outside of the loop. For (2), @tf.function has reduce_retracing=True option that can avoid unnecessary retracing. For (3), please refer to https://www.tensorflow.org/guide/function#controlling_retracing and https://www.tensorflow.org/api_docs/python/tf/function for  more details.\n"
          ]
        },
        {
          "output_type": "stream",
          "name": "stdout",
          "text": [
            "32/32 [==============================] - 0s 2ms/step - loss: 0.1460 - accuracy: 0.7902\n",
            "Accuracy: 79.02\n"
          ]
        }
      ]
    }
  ],
  "metadata": {
    "kernelspec": {
      "display_name": "Python 3",
      "language": "python",
      "name": "python3"
    },
    "language_info": {
      "codemirror_mode": {
        "name": "ipython",
        "version": 3
      },
      "file_extension": ".py",
      "mimetype": "text/x-python",
      "name": "python",
      "nbconvert_exporter": "python",
      "pygments_lexer": "ipython3",
      "version": "3.10.11"
    },
    "colab": {
      "provenance": [],
      "include_colab_link": true
    }
  },
  "nbformat": 4,
  "nbformat_minor": 0
}