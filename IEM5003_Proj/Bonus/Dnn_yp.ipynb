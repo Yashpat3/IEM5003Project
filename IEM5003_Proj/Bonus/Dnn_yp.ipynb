{
 "cells": [
  {
   "cell_type": "code",
   "execution_count": 1,
   "metadata": {},
   "outputs": [],
   "source": [
    "import numpy as np\n",
    "import csv, os\n",
    "from sklearn.linear_model import LinearRegression\n",
    "import scipy.stats as stats"
   ]
  },
  {
   "cell_type": "code",
   "execution_count": 2,
   "metadata": {},
   "outputs": [],
   "source": [
    "def readData(filename):\n",
    "    X = []\n",
    "    Y = []\n",
    "    with open (filename) as f:\n",
    "        next (f, None)\n",
    "        for line in csv.reader(f , delimiter = \",\"):\n",
    "            X.append (line [:-1])\n",
    "            Y.append (line [-1])\n",
    "                        \n",
    "    X = np.array(X, dtype = \"float\")\n",
    "    Y = np.array(Y, dtype = \"float\")\n",
    "    \n",
    "    return X, Y\n",
    "\n",
    "X_train, Y_train = readData(\"./liver_data_train.csv\")\n",
    "X_test, Y_test = readData(\"./liver_data_test.csv\")"
   ]
  },
  {
   "cell_type": "code",
   "execution_count": 6,
   "metadata": {},
   "outputs": [
    {
     "data": {
      "text/plain": [
       "0.17647058823529413"
      ]
     },
     "execution_count": 6,
     "metadata": {},
     "output_type": "execute_result"
    }
   ],
   "source": [
    "reg = LinearRegression()\n",
    "reg.fit (X_train, Y_train)\n",
    "Y_pred = np.round(reg.predict(X_test))\n",
    "acc = np.sum(np.equal(Y_test, Y_pred))/len(Y_test)\n",
    "acc"
   ]
  },
  {
   "cell_type": "code",
   "execution_count": null,
   "metadata": {},
   "outputs": [],
   "source": []
  }
 ],
 "metadata": {
  "kernelspec": {
   "display_name": "Python 3",
   "language": "python",
   "name": "python3"
  },
  "language_info": {
   "codemirror_mode": {
    "name": "ipython",
    "version": 3
   },
   "file_extension": ".py",
   "mimetype": "text/x-python",
   "name": "python",
   "nbconvert_exporter": "python",
   "pygments_lexer": "ipython3",
   "version": "3.10.11"
  }
 },
 "nbformat": 4,
 "nbformat_minor": 2
}
