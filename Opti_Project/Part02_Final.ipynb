{
 "cells": [
  {
   "cell_type": "code",
   "execution_count": 55,
   "id": "3a684462",
   "metadata": {},
   "outputs": [],
   "source": [
    "## SUBMITTED BY:\n",
    "# Yash Patel\n",
    "# Yash Patel\n",
    "# Kritika Bhandari"
   ]
  },
  {
   "cell_type": "code",
   "execution_count": 56,
   "id": "eac74abf",
   "metadata": {},
   "outputs": [],
   "source": [
    "from gurobipy import *\n",
    "import os\n",
    "import csv"
   ]
  },
  {
   "cell_type": "code",
   "execution_count": 57,
   "id": "e4c41f19",
   "metadata": {},
   "outputs": [],
   "source": [
    "#os.getcwd()"
   ]
  },
  {
   "cell_type": "code",
   "execution_count": 58,
   "id": "f9649a6a",
   "metadata": {},
   "outputs": [],
   "source": [
    "#os.chdir(\"C:\\\\Users\\\\yash1\\\\OneDrive - Oklahoma A and M System\\\\MAIN DRIVE\\\\Semester 3\\\\IEM 5013 (Introduction to optimization)\\\\Project\")"
   ]
  },
  {
   "cell_type": "code",
   "execution_count": 59,
   "id": "c9eacf82",
   "metadata": {},
   "outputs": [],
   "source": [
    "name1 = \"ZJX_Central.csv\"\n",
    "name2 = \"ZJX_East.csv\"\n",
    "name3 = \"ZJX_North.csv\"\n",
    "name4 = \"ZJX_South.csv\"\n",
    "name5 = \"ZJX_West.csv\"\n",
    "\n",
    "with open(name5, 'r') as file:\n",
    "    csv_reader = csv.reader(file)\n",
    "    data = []\n",
    "\n",
    "    for row in csv_reader:\n",
    "        data.extend(row)\n",
    "\n",
    "data_file_name = file.name\n",
    "#print(data)"
   ]
  },
  {
   "cell_type": "code",
   "execution_count": 60,
   "id": "53cdbb40",
   "metadata": {},
   "outputs": [],
   "source": [
    "s = [32, 40]\n",
    "r = [int(value) for value in data]\n",
    "\n",
    "## limit input size for trial runs\n",
    "#r = r[0:140]"
   ]
  },
  {
   "cell_type": "code",
   "execution_count": 61,
   "id": "9664b169",
   "metadata": {},
   "outputs": [
    {
     "data": {
      "text/plain": [
       "[32, 40]"
      ]
     },
     "execution_count": 61,
     "metadata": {},
     "output_type": "execute_result"
    }
   ],
   "source": [
    "s"
   ]
  },
  {
   "cell_type": "code",
   "execution_count": 62,
   "id": "8dd34483",
   "metadata": {},
   "outputs": [],
   "source": [
    "# Model Initiation\n",
    "m = Model(\"Shift_Scheduling_Problem\")"
   ]
  },
  {
   "cell_type": "code",
   "execution_count": 63,
   "id": "521129c1",
   "metadata": {},
   "outputs": [],
   "source": [
    "######################################\n",
    "########## Input parameters ##########\n",
    "######################################\n",
    "## Subscript 1 is for 8 hours shifts and 2 is for 10 hour shifts\n",
    "\n",
    "# HOURLY cost of 1 shift\n",
    "hcost = 1\n",
    "\n",
    "# hours in 1 shift\n",
    "h1 = 8\n",
    "h2 = 10\n",
    "\n",
    "# number of shifts in schedule\n",
    "j1 = 10\n",
    "j2 = 8\n",
    "\n",
    "# cost of entire schedule\n",
    "c1 = hcost*h1*j1\n",
    "c2 = hcost*h2*j2\n",
    "\n",
    "# overtime hourly cost\n",
    "ot_hcost = 1.5 * hcost\n",
    "\n",
    "# total number of schedules\n",
    "n1 = 50\n",
    "n2 = 50"
   ]
  },
  {
   "cell_type": "code",
   "execution_count": 64,
   "id": "825c91b3",
   "metadata": {},
   "outputs": [],
   "source": [
    "i_indices = range(n1) #Total count of standard schedules\n",
    "k_indices = range(n2) #Total count of compressed schedules\n",
    "\n",
    "j1_indices = range(j1) #shift indices in standard schedule\n",
    "j2_indices = range(j2) #shift indices in compressed schedule\n",
    "\n",
    "t_indices = range(len(r)) #time period indices"
   ]
  },
  {
   "cell_type": "code",
   "execution_count": null,
   "id": "7fe823f6",
   "metadata": {},
   "outputs": [],
   "source": []
  },
  {
   "cell_type": "code",
   "execution_count": 65,
   "id": "31dcaae5",
   "metadata": {},
   "outputs": [],
   "source": [
    "########################################\n",
    "########## Decision Variables ##########\n",
    "########################################\n",
    "\n",
    "###\n",
    "### Schedule selection ###\n",
    "S = m.addVars(i_indices, vtype=GRB.BINARY, name=\"S\")\n",
    "C = m.addVars(k_indices, vtype=GRB.BINARY, name=\"C\")\n",
    "\n",
    "\n",
    "###\n",
    "### Normal Working Hours ### (only captures starting marks)\n",
    "# Normal working hours initiation for each shift \"j1\" in standard schedule \"i\"\n",
    "X = m.addVars(i_indices, j1_indices, t_indices, vtype=GRB.BINARY, name=\"X\")\n",
    "\n",
    "# Normal working hours initiation for each shift \"j2\" in compressed schedule \"k\"\n",
    "Y = m.addVars(k_indices, j2_indices, t_indices, vtype=GRB.BINARY, name=\"Y\")\n",
    "\n",
    "\n",
    "###\n",
    "### Overtime working hours ### (captures all the time periods that are active)\n",
    "# Active period for Overtime in \"i\"th standard schedule's \"j1\"th shift\n",
    "OS = m.addVars(i_indices, j1_indices, t_indices, vtype=GRB.BINARY, name=\"OS\")\n",
    "\n",
    "# Active period for Overtime in \"k\"th compressed schedule's \"j2\"th shift\n",
    "OC = m.addVars(k_indices, j2_indices, t_indices, vtype=GRB.BINARY, name=\"OC\")"
   ]
  },
  {
   "cell_type": "code",
   "execution_count": null,
   "id": "0fc50a09",
   "metadata": {},
   "outputs": [],
   "source": []
  },
  {
   "cell_type": "code",
   "execution_count": 43,
   "id": "a37be54d",
   "metadata": {},
   "outputs": [],
   "source": [
    "########################################\n",
    "########## Objective function ##########\n",
    "########################################\n",
    "\n",
    "expression01 = quicksum(c1 * S[i] for i in i_indices)\n",
    "expression02 = quicksum(c2 * C[k] for k in k_indices)\n",
    "expression03 = quicksum(ot_hcost * OS[i, j1, t] for i in i_indices for j1 in j1_indices for t in t_indices)\n",
    "expression04 = quicksum(ot_hcost * OC[k, j2, t] for k in k_indices for j2 in j2_indices for t in t_indices)\n",
    "\n",
    "# Set objective function\n",
    "m.setObjective(expression01 + expression02 + expression03 + expression04, GRB.MINIMIZE)"
   ]
  },
  {
   "cell_type": "code",
   "execution_count": null,
   "id": "58616eda",
   "metadata": {},
   "outputs": [],
   "source": []
  },
  {
   "cell_type": "code",
   "execution_count": 44,
   "id": "882818a6",
   "metadata": {},
   "outputs": [],
   "source": [
    "#################################\n",
    "########## Constraints ##########\n",
    "#################################\n",
    "\n",
    "###\n",
    "### demand constraint\n",
    "\n",
    "## POSSIBLE ERROR\n",
    "\n",
    "for t in t_indices:\n",
    "    time_range_normal = range(max(0, t-31), t+1)\n",
    "    time_range_compressed = range(max(0, t-39), t+1)\n",
    "    \n",
    "    exp1 = quicksum(S[i]*X[i, j1, tau] for i in i_indices for j1 in j1_indices for tau in time_range_normal)\n",
    "    exp2 = quicksum(C[k]*Y[k, j2, tau] for k in k_indices for j2 in j2_indices for tau in time_range_compressed)\n",
    "    \n",
    "    exp3 = quicksum(OS[i, j1, t] for i in i_indices for j1 in j1_indices)\n",
    "    exp4 = quicksum(OC[k, j2, t] for k in k_indices for j2 in j2_indices)\n",
    "    \n",
    "    m.addConstr(exp1 + exp2 + exp3 + exp4 >= r[t], name=f\"demand_constraint_{t}\")"
   ]
  },
  {
   "cell_type": "code",
   "execution_count": 45,
   "id": "f6dd87de",
   "metadata": {},
   "outputs": [],
   "source": [
    "###\n",
    "### OT continuation constraints\n",
    "### Only gets affected by same values of \"j\"\n",
    "for i in i_indices:\n",
    "    for j1 in j1_indices:\n",
    "        for t in t_indices:\n",
    "            if t >= s[0]:\n",
    "                m.addConstr(OS[i, j1, t] <= X[i, j1, t-s[0]] + OS[i, j1, t-1], name=f\"OS_Cont_{i},{j1},{t}\")\n",
    "\n",
    "for k in k_indices:\n",
    "    for j2 in j2_indices:\n",
    "        for t in t_indices:\n",
    "            if t >= s[1]:\n",
    "                m.addConstr(OC[k, j2, t] <= Y[k, j2, t-s[1]] + OC[k, j2, t-1], name=f\"OC_Cont_{k},{j2},{t}\")"
   ]
  },
  {
   "cell_type": "code",
   "execution_count": 46,
   "id": "0bfd991d",
   "metadata": {},
   "outputs": [],
   "source": [
    "###\n",
    "### 8-hours gap\n",
    "### affected by other \"j\" of same \"i\"\n",
    "# X & OS\n",
    "for i in i_indices:\n",
    "    for j1 in j1_indices:\n",
    "        for t in t_indices:\n",
    "            time_check_range1 = range(max(0,t-63), t)           \n",
    "            exp001 = quicksum(X[i, jetta1, tau1] for jetta1 in j1_indices for tau1 in time_check_range1)\n",
    "            \n",
    "            time_check_range2 = range(max(0,t-32), t)           \n",
    "            exp002 = quicksum(OS[i, jetta1, tau2] for jetta1 in j1_indices for tau2 in time_check_range2)\n",
    "            \n",
    "            m.addConstr(100000*(1 - X[i, j1, t]) >= exp001 + exp002, name=f\"8hourGap_OS_{i}{j1}{t}\")\n",
    "            \n",
    "# Y & OC\n",
    "for k in k_indices:\n",
    "    for j2 in j2_indices:\n",
    "        for t in t_indices:\n",
    "            time_check_range1 = range(max(0,t-71), t)           \n",
    "            exp101 = quicksum(Y[k, jetta2, tau1] for jetta2 in j2_indices for tau1 in time_check_range1)\n",
    "            \n",
    "            time_check_range2 = range(max(0,t-32), t)           \n",
    "            exp102 = quicksum(OC[k, jetta2, tau2] for jetta2 in j2_indices for tau2 in time_check_range2)\n",
    "            \n",
    "            m.addConstr(100000*(1 - Y[k, j2, t]) >= exp101 + exp102, name=f\"8hourGap_OC_{k}{j2}{t}\")\n",
    "            "
   ]
  },
  {
   "cell_type": "code",
   "execution_count": 47,
   "id": "69a4032b",
   "metadata": {},
   "outputs": [],
   "source": [
    "###\n",
    "### Shift validation constraint\n",
    "for i in i_indices:\n",
    "    a = quicksum(X[i, j1, t] for j1 in j1_indices for t in t_indices)\n",
    "    b = 10*S[i]\n",
    "    m.addConstr(a == b, name=f\"shift_validation_S{i}\")\n",
    "\n",
    "for k in k_indices:\n",
    "    a = quicksum(Y[k, j2, t] for j2 in j2_indices for t in t_indices)\n",
    "    b = 8*C[k]\n",
    "    m.addConstr(a == b, name=f\"shift_validation_C{k}\")"
   ]
  },
  {
   "cell_type": "code",
   "execution_count": 48,
   "id": "32b8374a",
   "metadata": {},
   "outputs": [],
   "source": [
    "###\n",
    "### Last few shifts should not be initialized\n",
    "for t in range(len(t_indices)-31, len(t_indices)):\n",
    "    a = quicksum(X[i, j1, t] for i in i_indices for j1 in j1_indices)\n",
    "    m.addConstr(a == 0, name=f\"last_zeroes_8hours_{t}\")\n",
    "\n",
    "for t in range(len(t_indices)-39, len(t_indices)):\n",
    "    a = quicksum(Y[k, j2, t] for k in k_indices for j2 in j2_indices)\n",
    "    m.addConstr(a == 0, name=f\"last_zeroes_10hours_{t}\")"
   ]
  },
  {
   "cell_type": "code",
   "execution_count": 49,
   "id": "5a97df85",
   "metadata": {},
   "outputs": [],
   "source": [
    "###\n",
    "### OT can't start in initial time\n",
    "for t in range(0, 32):\n",
    "    a = quicksum(OS[i, j1, t] for i in i_indices for j1 in j1_indices)\n",
    "    m.addConstr(a == 0, name=f\"Initial_OS_zero_{t}\")\n",
    "    \n",
    "for t in range(0, 40):\n",
    "    a = quicksum(OC[k, j2, t] for k in k_indices for j2 in j2_indices)\n",
    "    m.addConstr(a == 0, name=f\"Initial_OC_zero_{t}\")"
   ]
  },
  {
   "cell_type": "code",
   "execution_count": 50,
   "id": "26db24aa",
   "metadata": {},
   "outputs": [],
   "source": [
    "###\n",
    "###\n",
    "for i in i_indices:\n",
    "    for t in t_indices:\n",
    "        a = quicksum(X[i, j1, t] for j1 in j1_indices)\n",
    "        m.addConstr(a <= 1, name=f\"one_shift_at_a_time_S_{i}{t}\")\n",
    "#\n",
    "for k in k_indices:\n",
    "    for t in t_indices:\n",
    "        a = quicksum(Y[k, j2, t] for j2 in j2_indices)\n",
    "        m.addConstr(a <= 1, name=f\"one_shift_at_a_time_C_{k}{t}\")   "
   ]
  },
  {
   "cell_type": "code",
   "execution_count": null,
   "id": "f4645b80",
   "metadata": {},
   "outputs": [],
   "source": []
  },
  {
   "cell_type": "code",
   "execution_count": 51,
   "id": "d291b99f",
   "metadata": {},
   "outputs": [
    {
     "name": "stdout",
     "output_type": "stream",
     "text": [
      "Set parameter TimeLimit to value 240\n",
      "Gurobi Optimizer version 10.0.2 build v10.0.2rc0 (win64)\n",
      "\n",
      "CPU model: AMD Ryzen 7 5800HS with Radeon Graphics, instruction set [SSE2|AVX|AVX2]\n",
      "Thread count: 8 physical cores, 16 logical processors, using up to 16 threads\n",
      "\n",
      "Optimize a model with 18622 rows, 13488 columns and 568800 nonzeros\n",
      "Model fingerprint: 0xfbd902c5\n",
      "Model has 140 quadratic constraints\n",
      "Variable types: 0 continuous, 13488 integer (13488 binary)\n",
      "Coefficient statistics:\n",
      "  Matrix range     [1e+00, 1e+05]\n",
      "  QMatrix range    [1e+00, 1e+00]\n",
      "  QLMatrix range   [1e+00, 1e+00]\n",
      "  Objective range  [2e+00, 1e+01]\n",
      "  Bounds range     [1e+00, 1e+00]\n",
      "  RHS range        [1e+00, 1e+05]\n",
      "  QRHS range       [1e+00, 1e+01]\n",
      "Presolve removed 10078 rows and 3408 columns\n",
      "Presolve time: 1.28s\n",
      "Presolved: 18764 rows, 15120 columns, 513360 nonzeros\n",
      "Variable types: 0 continuous, 15120 integer (15120 binary)\n",
      "\n",
      "Root relaxation: objective 3.981250e+01, 4674 iterations, 0.34 seconds (1.26 work units)\n",
      "\n",
      "    Nodes    |    Current Node    |     Objective Bounds      |     Work\n",
      " Expl Unexpl |  Obj  Depth IntInf | Incumbent    BestBd   Gap | It/Node Time\n",
      "\n",
      "     0     0   39.81250    0  168          -   39.81250      -     -    3s\n",
      "     0     0   39.81250    0  173          -   39.81250      -     -    3s\n",
      "     0     0   39.81250    0  205          -   39.81250      -     -    4s\n",
      "     0     0   39.81250    0  192          -   39.81250      -     -    4s\n",
      "     0     0   39.81250    0  174          -   39.81250      -     -    4s\n",
      "     0     0   39.81250    0  218          -   39.81250      -     -    4s\n",
      "     0     0   39.81250    0  228          -   39.81250      -     -    4s\n",
      "     0     0   39.81250    0  196          -   39.81250      -     -    4s\n",
      "     0     0   39.81250    0  179          -   39.81250      -     -    4s\n",
      "     0     0   40.50000    0  192          -   40.50000      -     -    4s\n",
      "     0     0   41.18750    0  210          -   41.18750      -     -    4s\n",
      "     0     0   42.83750    0  201          -   42.83750      -     -    6s\n",
      "\n",
      "Cutting planes:\n",
      "  Gomory: 4\n",
      "  Cover: 7\n",
      "  Clique: 37\n",
      "  MIR: 1\n",
      "  StrongCG: 1\n",
      "  GUB cover: 5\n",
      "  Zero half: 9\n",
      "  RLT: 26\n",
      "  BQP: 127\n",
      "\n",
      "Explored 1 nodes (12292 simplex iterations) in 6.58 seconds (13.48 work units)\n",
      "Thread count was 16 (of 16 available processors)\n",
      "\n",
      "Solution count 0\n",
      "\n",
      "Model is infeasible\n",
      "Best objective -, best bound -, gap -\n"
     ]
    }
   ],
   "source": [
    "m.Params.timeLimit = 1800\n",
    "\n",
    "m.optimize()"
   ]
  },
  {
   "cell_type": "code",
   "execution_count": null,
   "id": "8c8e16d1",
   "metadata": {},
   "outputs": [],
   "source": []
  },
  {
   "cell_type": "code",
   "execution_count": null,
   "id": "5444ca2f",
   "metadata": {},
   "outputs": [],
   "source": [
    "# Check if the optimization was successful\n",
    "if m.status == GRB.OPTIMAL:\n",
    "    # Access and print the objective value\n",
    "    print(f\"Optimal Objective Value: {m.objVal}\")\n",
    "else:\n",
    "    print(\"Optimization was not successful.\")"
   ]
  },
  {
   "cell_type": "code",
   "execution_count": 52,
   "id": "c268e9e0",
   "metadata": {},
   "outputs": [
    {
     "data": {
      "text/plain": [
       "3"
      ]
     },
     "execution_count": 52,
     "metadata": {},
     "output_type": "execute_result"
    }
   ],
   "source": [
    "m.status"
   ]
  },
  {
   "cell_type": "code",
   "execution_count": null,
   "id": "7e161fb7",
   "metadata": {},
   "outputs": [],
   "source": []
  },
  {
   "cell_type": "code",
   "execution_count": 66,
   "id": "1e111b9a",
   "metadata": {},
   "outputs": [
    {
     "ename": "AttributeError",
     "evalue": "Index out of range for attribute 'X'",
     "output_type": "error",
     "traceback": [
      "\u001b[1;31m---------------------------------------------------------------------------\u001b[0m",
      "\u001b[1;31mAttributeError\u001b[0m                            Traceback (most recent call last)",
      "\u001b[1;32m~\\AppData\\Local\\Temp/ipykernel_7068/3812026358.py\u001b[0m in \u001b[0;36m<module>\u001b[1;34m\u001b[0m\n\u001b[0;32m      2\u001b[0m     \u001b[1;32mfor\u001b[0m \u001b[0mj1\u001b[0m \u001b[1;32min\u001b[0m \u001b[0mj1_indices\u001b[0m\u001b[1;33m:\u001b[0m\u001b[1;33m\u001b[0m\u001b[1;33m\u001b[0m\u001b[0m\n\u001b[0;32m      3\u001b[0m         \u001b[1;32mfor\u001b[0m \u001b[0mt\u001b[0m \u001b[1;32min\u001b[0m \u001b[0mt_indices\u001b[0m\u001b[1;33m:\u001b[0m\u001b[1;33m\u001b[0m\u001b[1;33m\u001b[0m\u001b[0m\n\u001b[1;32m----> 4\u001b[1;33m             \u001b[1;32mif\u001b[0m \u001b[0mX\u001b[0m\u001b[1;33m[\u001b[0m\u001b[0mi\u001b[0m\u001b[1;33m,\u001b[0m \u001b[0mj1\u001b[0m\u001b[1;33m,\u001b[0m \u001b[0mt\u001b[0m\u001b[1;33m]\u001b[0m\u001b[1;33m.\u001b[0m\u001b[0mx\u001b[0m \u001b[1;33m==\u001b[0m \u001b[1;36m1\u001b[0m\u001b[1;33m:\u001b[0m\u001b[1;33m\u001b[0m\u001b[1;33m\u001b[0m\u001b[0m\n\u001b[0m\u001b[0;32m      5\u001b[0m                 \u001b[0mprint\u001b[0m\u001b[1;33m(\u001b[0m\u001b[1;34mf\"{i},{j1},{t}\"\u001b[0m\u001b[1;33m)\u001b[0m\u001b[1;33m\u001b[0m\u001b[1;33m\u001b[0m\u001b[0m\n",
      "\u001b[1;32msrc\\gurobipy\\var.pxi\u001b[0m in \u001b[0;36mgurobipy.Var.__getattr__\u001b[1;34m()\u001b[0m\n",
      "\u001b[1;32msrc\\gurobipy\\var.pxi\u001b[0m in \u001b[0;36mgurobipy.Var.getAttr\u001b[1;34m()\u001b[0m\n",
      "\u001b[1;32msrc\\gurobipy\\attrutil.pxi\u001b[0m in \u001b[0;36mgurobipy.__getattr\u001b[1;34m()\u001b[0m\n",
      "\u001b[1;31mAttributeError\u001b[0m: Index out of range for attribute 'X'"
     ]
    }
   ],
   "source": [
    "# Standard Schedule - Shift starting times\n",
    "for i in i_indices:\n",
    "    for j1 in j1_indices:\n",
    "        for t in t_indices:\n",
    "            if X[i, j1, t].x == 1:\n",
    "                print(f\"{i},{j1},{t}\")"
   ]
  },
  {
   "cell_type": "code",
   "execution_count": null,
   "id": "f399b77c",
   "metadata": {},
   "outputs": [],
   "source": [
    "# Compressed Schedule - Shift starting times\n",
    "for k in k_indices:\n",
    "    for j2 in j2_indices:\n",
    "        for t in t_indices:\n",
    "            if Y[k, j2, t].x == 1:\n",
    "                print(f\"{k},{j2},{t}\")"
   ]
  },
  {
   "cell_type": "code",
   "execution_count": null,
   "id": "2514e9bc",
   "metadata": {},
   "outputs": [],
   "source": []
  },
  {
   "cell_type": "code",
   "execution_count": null,
   "id": "4bc970ed",
   "metadata": {},
   "outputs": [],
   "source": []
  },
  {
   "cell_type": "code",
   "execution_count": null,
   "id": "77e5fadf",
   "metadata": {},
   "outputs": [],
   "source": []
  },
  {
   "cell_type": "code",
   "execution_count": null,
   "id": "a3b749d9",
   "metadata": {},
   "outputs": [],
   "source": []
  },
  {
   "cell_type": "code",
   "execution_count": null,
   "id": "129b9800",
   "metadata": {},
   "outputs": [],
   "source": []
  }
 ],
 "metadata": {
  "kernelspec": {
   "display_name": "Python 3 (ipykernel)",
   "language": "python",
   "name": "python3"
  },
  "language_info": {
   "codemirror_mode": {
    "name": "ipython",
    "version": 3
   },
   "file_extension": ".py",
   "mimetype": "text/x-python",
   "name": "python",
   "nbconvert_exporter": "python",
   "pygments_lexer": "ipython3",
   "version": "3.9.7"
  }
 },
 "nbformat": 4,
 "nbformat_minor": 5
}
