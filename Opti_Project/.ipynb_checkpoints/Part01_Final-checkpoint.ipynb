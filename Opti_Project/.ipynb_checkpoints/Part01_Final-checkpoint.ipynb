{
 "cells": [
  {
   "cell_type": "code",
   "execution_count": 1,
   "id": "cfd7a5d4",
   "metadata": {},
   "outputs": [],
   "source": [
    "## SUBMITTED BY:\n",
    "# Yash Patel\n",
    "# Yash Patel\n",
    "# Kritika Bhandari"
   ]
  },
  {
   "cell_type": "code",
   "execution_count": null,
   "id": "83083eb6",
   "metadata": {},
   "outputs": [],
   "source": [
    "from gurobipy import *\n",
    "import os\n",
    "import csv"
   ]
  },
  {
   "cell_type": "code",
   "execution_count": 2,
   "id": "2820de78",
   "metadata": {},
   "outputs": [
    {
     "data": {
      "text/plain": [
       "'C:\\\\Users\\\\Yash\\\\Desktop\\\\Opti_Project'"
      ]
     },
     "execution_count": 2,
     "metadata": {},
     "output_type": "execute_result"
    }
   ],
   "source": [
    "os.getcwd()"
   ]
  },
  {
   "cell_type": "code",
   "execution_count": 3,
   "id": "7bee8592",
   "metadata": {},
   "outputs": [],
   "source": [
    "#os.chdir(\"C:\\\\Users\\\\yash1\\\\OneDrive - Oklahoma A and M System\\\\MAIN DRIVE\\\\Semester 3\\\\IEM 5013 (Introduction to optimization)\\\\Project\")"
   ]
  },
  {
   "cell_type": "code",
   "execution_count": 94,
   "id": "d2b71299",
   "metadata": {},
   "outputs": [],
   "source": [
    "name1 = \"ZJX_Central.csv\"\n",
    "name2 = \"ZJX_East.csv\"\n",
    "name3 = \"ZJX_North.csv\"\n",
    "name4 = \"ZJX_South.csv\"\n",
    "name5 = \"ZJX_West.csv\"\n",
    "\n",
    "with open(name5, 'r') as file:\n",
    "    csv_reader = csv.reader(file)\n",
    "    data = []\n",
    "\n",
    "    for row in csv_reader:\n",
    "        data.extend(row)\n",
    "\n",
    "data_file_name = file.name\n",
    "#print(data)"
   ]
  },
  {
   "cell_type": "code",
   "execution_count": 95,
   "id": "b9030ef8",
   "metadata": {},
   "outputs": [
    {
     "data": {
      "text/plain": [
       "1344"
      ]
     },
     "execution_count": 95,
     "metadata": {},
     "output_type": "execute_result"
    }
   ],
   "source": [
    "len(data)"
   ]
  },
  {
   "cell_type": "code",
   "execution_count": 96,
   "id": "9d2af6d0",
   "metadata": {},
   "outputs": [],
   "source": [
    "s = [32, 40]\n",
    "r = [int(value) for value in data]\n",
    "\n",
    "## limit input size for trial runs\n",
    "#r = r[0:400]"
   ]
  },
  {
   "cell_type": "code",
   "execution_count": 97,
   "id": "edb8074b",
   "metadata": {},
   "outputs": [
    {
     "data": {
      "text/plain": [
       "[32, 40]"
      ]
     },
     "execution_count": 97,
     "metadata": {},
     "output_type": "execute_result"
    }
   ],
   "source": [
    "s"
   ]
  },
  {
   "cell_type": "code",
   "execution_count": 98,
   "id": "f191c290",
   "metadata": {},
   "outputs": [
    {
     "name": "stdout",
     "output_type": "stream",
     "text": [
      "range(0, 2)\n",
      "range(0, 1344)\n"
     ]
    }
   ],
   "source": [
    "# Model Initiation\n",
    "m = Model(\"Shift_Distribution_Problem\")\n",
    "\n",
    "# as our decision variable is Xit, we initiate indices for i and t\n",
    "i_indices = range(len(s))\n",
    "print(i_indices)\n",
    "\n",
    "t_indices = range(len(r))\n",
    "print(t_indices)"
   ]
  },
  {
   "cell_type": "code",
   "execution_count": 99,
   "id": "b299f5d7",
   "metadata": {},
   "outputs": [
    {
     "data": {
      "text/plain": [
       "1344"
      ]
     },
     "execution_count": 99,
     "metadata": {},
     "output_type": "execute_result"
    }
   ],
   "source": [
    "len(t_indices)"
   ]
  },
  {
   "cell_type": "code",
   "execution_count": 100,
   "id": "47893fc1",
   "metadata": {},
   "outputs": [],
   "source": [
    "## Decision Variable Xit\n",
    "X = m.addVars(i_indices, t_indices, vtype=GRB.INTEGER, name=\"X\")"
   ]
  },
  {
   "cell_type": "code",
   "execution_count": 101,
   "id": "442d830f",
   "metadata": {},
   "outputs": [],
   "source": [
    "# Objective function\n",
    "m.setObjective(quicksum(X[i, t] for i in i_indices for t in t_indices), GRB.MINIMIZE)"
   ]
  },
  {
   "cell_type": "code",
   "execution_count": 102,
   "id": "75d22138",
   "metadata": {},
   "outputs": [],
   "source": [
    "## Constraints\n",
    "\n",
    "# (1) Coverage Requirement\n",
    "for t in t_indices:\n",
    "    m.addConstr(quicksum(X[i, tau] for i in i_indices for tau in range(max(0, t - s[i] + 1), t + 1)) >= r[t], name=f\"demand_constraint_{t}\")"
   ]
  },
  {
   "cell_type": "code",
   "execution_count": 103,
   "id": "b52d6715",
   "metadata": {},
   "outputs": [],
   "source": [
    "# (2) Last few shifts should not be initialized\n",
    "for t in range(len(t_indices)-31, len(t_indices)):\n",
    "    m.addConstr(X[0, t] == 0, name=f\"last_zeroes_8hours_{t}\")\n",
    "\n",
    "for t in range(len(t_indices)-39, len(t_indices)):\n",
    "    m.addConstr(X[1, t] == 0, name=f\"last_zeroes_10hours_{t}\")"
   ]
  },
  {
   "cell_type": "code",
   "execution_count": 104,
   "id": "49ef46e8",
   "metadata": {},
   "outputs": [],
   "source": [
    "# (3) Non-negativity constraint\n",
    "for i in i_indices:\n",
    "    for t in t_indices:\n",
    "        m.addConstr(X[i, t] >= 0, name=f\"non-negativity_{i},{t}\")\n",
    "    "
   ]
  },
  {
   "cell_type": "code",
   "execution_count": null,
   "id": "0b583871",
   "metadata": {},
   "outputs": [],
   "source": []
  },
  {
   "cell_type": "code",
   "execution_count": 105,
   "id": "62508a3f",
   "metadata": {},
   "outputs": [
    {
     "name": "stdout",
     "output_type": "stream",
     "text": [
      "Set parameter TimeLimit to value 10\n"
     ]
    }
   ],
   "source": [
    "m.Params.timeLimit = 10"
   ]
  },
  {
   "cell_type": "code",
   "execution_count": 106,
   "id": "2c8506b1",
   "metadata": {},
   "outputs": [
    {
     "name": "stdout",
     "output_type": "stream",
     "text": [
      "Gurobi Optimizer version 10.0.2 build v10.0.2rc0 (win64)\n",
      "\n",
      "CPU model: AMD Ryzen 7 5800HS with Radeon Graphics, instruction set [SSE2|AVX|AVX2]\n",
      "Thread count: 8 physical cores, 16 logical processors, using up to 16 threads\n",
      "\n",
      "Optimize a model with 4102 rows, 2688 columns and 98250 nonzeros\n",
      "Model fingerprint: 0x77b1937e\n",
      "Variable types: 0 continuous, 2688 integer (0 binary)\n",
      "Coefficient statistics:\n",
      "  Matrix range     [1e+00, 1e+00]\n",
      "  Objective range  [1e+00, 1e+00]\n",
      "  Bounds range     [0e+00, 0e+00]\n",
      "  RHS range        [1e+00, 1e+01]\n",
      "Found heuristic solution: objective 185.0000000\n",
      "Presolve removed 2976 rows and 1564 columns\n",
      "Presolve time: 0.11s\n",
      "Presolved: 1126 rows, 1124 columns, 42404 nonzeros\n",
      "Variable types: 0 continuous, 1124 integer (0 binary)\n",
      "\n",
      "Root relaxation: cutoff, 242 iterations, 0.00 seconds (0.00 work units)\n",
      "\n",
      "    Nodes    |    Current Node    |     Objective Bounds      |     Work\n",
      " Expl Unexpl |  Obj  Depth IntInf | Incumbent    BestBd   Gap | It/Node Time\n",
      "\n",
      "     0     0     cutoff    0       185.00000  185.00000  0.00%     -    0s\n",
      "\n",
      "Explored 1 nodes (242 simplex iterations) in 0.14 seconds (0.30 work units)\n",
      "Thread count was 16 (of 16 available processors)\n",
      "\n",
      "Solution count 1: 185 \n",
      "\n",
      "Optimal solution found (tolerance 1.00e-04)\n",
      "Best objective 1.850000000000e+02, best bound 1.850000000000e+02, gap 0.0000%\n"
     ]
    }
   ],
   "source": [
    "m.optimize()"
   ]
  },
  {
   "cell_type": "code",
   "execution_count": 107,
   "id": "fa172047",
   "metadata": {},
   "outputs": [
    {
     "name": "stdout",
     "output_type": "stream",
     "text": [
      "X[1,0] = 1.0\n",
      "X[1,11] = 1.0\n",
      "X[1,26] = 1.0\n",
      "X[1,33] = 3.0\n",
      "X[1,40] = 2.0\n",
      "X[1,41] = 1.0\n",
      "X[1,62] = 1.0\n",
      "X[1,63] = 1.0\n",
      "X[1,64] = 1.0\n",
      "X[1,78] = 1.0\n",
      "X[1,81] = 1.0\n",
      "X[1,118] = 1.0\n",
      "X[1,121] = 1.0\n",
      "X[1,129] = 2.0\n",
      "X[1,130] = 2.0\n",
      "X[1,134] = 2.0\n",
      "X[1,138] = 1.0\n",
      "X[1,159] = 2.0\n",
      "X[1,170] = 1.0\n",
      "X[1,175] = 1.0\n",
      "X[1,180] = 1.0\n",
      "X[1,215] = 1.0\n",
      "X[1,219] = 1.0\n",
      "X[1,220] = 1.0\n",
      "X[1,221] = 2.0\n",
      "X[1,227] = 1.0\n",
      "X[1,232] = 1.0\n",
      "X[1,248] = 1.0\n",
      "X[1,255] = 1.0\n",
      "X[1,259] = 1.0\n",
      "X[1,260] = 1.0\n",
      "X[1,261] = 2.0\n",
      "X[1,301] = 1.0\n",
      "X[1,307] = 1.0\n",
      "X[1,310] = 2.0\n",
      "X[1,323] = 2.0\n",
      "X[1,327] = 1.0\n",
      "X[1,333] = 2.0\n",
      "X[1,347] = 3.0\n",
      "X[1,387] = 1.0\n",
      "X[1,397] = 1.0\n",
      "X[1,406] = 1.0\n",
      "X[1,407] = 1.0\n",
      "X[1,412] = 1.0\n",
      "X[1,415] = 1.0\n",
      "X[1,417] = 2.0\n",
      "X[1,418] = 1.0\n",
      "X[1,437] = 1.0\n",
      "X[1,447] = 1.0\n",
      "X[1,448] = 1.0\n",
      "X[1,457] = 1.0\n",
      "X[1,458] = 1.0\n",
      "X[1,497] = 1.0\n",
      "X[1,498] = 1.0\n",
      "X[1,501] = 1.0\n",
      "X[1,503] = 1.0\n",
      "X[1,508] = 1.0\n",
      "X[1,511] = 2.0\n",
      "X[1,517] = 1.0\n",
      "X[1,527] = 1.0\n",
      "X[1,539] = 2.0\n",
      "X[1,540] = 1.0\n",
      "X[1,552] = 1.0\n",
      "X[1,592] = 1.0\n",
      "X[1,593] = 1.0\n",
      "X[1,598] = 1.0\n",
      "X[1,599] = 1.0\n",
      "X[1,606] = 2.0\n",
      "X[1,625] = 1.0\n",
      "X[1,629] = 1.0\n",
      "X[1,633] = 2.0\n",
      "X[1,638] = 1.0\n",
      "X[1,640] = 1.0\n",
      "X[1,646] = 1.0\n",
      "X[1,683] = 1.0\n",
      "X[1,686] = 1.0\n",
      "X[1,698] = 1.0\n",
      "X[1,705] = 3.0\n",
      "X[1,712] = 1.0\n",
      "X[1,713] = 1.0\n",
      "X[1,732] = 1.0\n",
      "X[1,734] = 1.0\n",
      "X[1,735] = 1.0\n",
      "X[1,736] = 1.0\n",
      "X[1,750] = 1.0\n",
      "X[1,789] = 1.0\n",
      "X[1,790] = 1.0\n",
      "X[1,801] = 2.0\n",
      "X[1,802] = 2.0\n",
      "X[1,806] = 2.0\n",
      "X[1,810] = 1.0\n",
      "X[1,830] = 1.0\n",
      "X[1,831] = 2.0\n",
      "X[1,847] = 1.0\n",
      "X[1,852] = 1.0\n",
      "X[1,887] = 1.0\n",
      "X[1,891] = 1.0\n",
      "X[1,892] = 1.0\n",
      "X[1,893] = 2.0\n",
      "X[1,899] = 1.0\n",
      "X[1,904] = 1.0\n",
      "X[1,920] = 1.0\n",
      "X[1,927] = 1.0\n",
      "X[1,931] = 1.0\n",
      "X[1,932] = 1.0\n",
      "X[1,933] = 2.0\n",
      "X[1,973] = 1.0\n",
      "X[1,979] = 1.0\n",
      "X[1,982] = 2.0\n",
      "X[1,995] = 2.0\n",
      "X[1,999] = 1.0\n",
      "X[1,1005] = 2.0\n",
      "X[1,1019] = 3.0\n",
      "X[1,1054] = 1.0\n",
      "X[1,1059] = 1.0\n",
      "X[1,1078] = 1.0\n",
      "X[1,1079] = 1.0\n",
      "X[1,1084] = 1.0\n",
      "X[1,1087] = 1.0\n",
      "X[1,1089] = 2.0\n",
      "X[1,1090] = 1.0\n",
      "X[1,1093] = 1.0\n",
      "X[1,1119] = 1.0\n",
      "X[1,1120] = 1.0\n",
      "X[1,1129] = 1.0\n",
      "X[1,1130] = 1.0\n",
      "X[1,1169] = 1.0\n",
      "X[1,1170] = 1.0\n",
      "X[1,1173] = 1.0\n",
      "X[1,1175] = 1.0\n",
      "X[1,1180] = 1.0\n",
      "X[1,1183] = 2.0\n",
      "X[1,1186] = 1.0\n",
      "X[1,1199] = 1.0\n",
      "X[1,1211] = 2.0\n",
      "X[1,1212] = 1.0\n",
      "X[1,1223] = 1.0\n",
      "X[1,1243] = 3.0\n",
      "X[1,1257] = 1.0\n",
      "X[1,1262] = 1.0\n",
      "X[1,1276] = 1.0\n",
      "X[1,1282] = 1.0\n",
      "X[1,1283] = 2.0\n",
      "X[1,1297] = 2.0\n",
      "X[1,1299] = 1.0\n",
      "X[1,1304] = 1.0\n",
      "Optimal Objective Value: 185.0\n"
     ]
    }
   ],
   "source": [
    "# Check if the optimization was successful\n",
    "if m.status == GRB.OPTIMAL:\n",
    "    # Access and print the values of decision variables X\n",
    "    for i in i_indices:\n",
    "        for t in t_indices:\n",
    "            if X[i, t].x != 0:\n",
    "                print(f\"X[{i},{t}] = {X[i, t].x}\")\n",
    "\n",
    "    # Access and print the objective value\n",
    "    print(f\"Optimal Objective Value: {m.objVal}\")\n",
    "else:\n",
    "    print(\"Optimization was not successful.\")"
   ]
  },
  {
   "cell_type": "code",
   "execution_count": null,
   "id": "b5c7b795",
   "metadata": {},
   "outputs": [],
   "source": []
  },
  {
   "cell_type": "code",
   "execution_count": 108,
   "id": "39228c4b",
   "metadata": {},
   "outputs": [
    {
     "name": "stdout",
     "output_type": "stream",
     "text": [
      "Termination status: Optimal\n",
      "Best objective value: 185.0\n",
      "Elapsed wall-clock time: 0.13900017738342285 seconds\n",
      "Optimality gap at termination: 0.0%\n",
      "\n"
     ]
    }
   ],
   "source": [
    "model_status = \"\"\n",
    "\n",
    "if m.status == GRB.OPTIMAL:\n",
    "    model_status += f\"Termination status: Optimal\\n\"\n",
    "    model_status += f\"Best objective value: {m.objVal}\\n\"\n",
    "    model_status += f\"Elapsed wall-clock time: {m.Runtime} seconds\\n\"\n",
    "    model_status += f\"Optimality gap at termination: {m.MIPGap}%\\n\"\n",
    "elif m.status == GRB.INFEASIBLE:\n",
    "    model_status += \"Termination status: Infeasible\\n\"\n",
    "    model_status += f\"Infeasibility reason: {m.UnbdRay}\\n\"\n",
    "elif m.status == GRB.UNBOUNDED:\n",
    "    model_status += \"Termination status: Unbounded\\n\"\n",
    "elif m.status == GRB.TIME_LIMIT:\n",
    "    model_status += \"Termination status: Time Limit Exceeded\\n\"\n",
    "    model_status += f\"Best objective value: {m.objVal}\\n\"\n",
    "    model_status += f\"Optimality gap at termination: {m.MIPGap}%\\n\"\n",
    "else:\n",
    "    model_status += f\"Optimization terminated with status: {m.status}\\n\"\n",
    "\n",
    "print(model_status)"
   ]
  },
  {
   "cell_type": "code",
   "execution_count": 109,
   "id": "d0bc499f",
   "metadata": {},
   "outputs": [
    {
     "name": "stdout",
     "output_type": "stream",
     "text": [
      "185\n"
     ]
    }
   ],
   "source": [
    "# How many total shifts are required?\n",
    "count_total_shifts = 0\n",
    "for i in i_indices:\n",
    "    for t in t_indices:\n",
    "        if X[i, t].x != 0:\n",
    "            count_total_shifts = count_total_shifts + X[i, t].x\n",
    "\n",
    "print(int(count_total_shifts))"
   ]
  },
  {
   "cell_type": "code",
   "execution_count": 110,
   "id": "c1ad1ef1",
   "metadata": {},
   "outputs": [
    {
     "name": "stdout",
     "output_type": "stream",
     "text": [
      "from 1th period 41th period, 1 count of 10-hour shift needed\n",
      "from 12th period 52th period, 1 count of 10-hour shift needed\n",
      "from 27th period 67th period, 1 count of 10-hour shift needed\n",
      "from 34th period 74th period, 3 count of 10-hour shift needed\n",
      "from 41th period 81th period, 2 count of 10-hour shift needed\n",
      "from 42th period 82th period, 1 count of 10-hour shift needed\n",
      "from 63th period 103th period, 1 count of 10-hour shift needed\n",
      "from 64th period 104th period, 1 count of 10-hour shift needed\n",
      "from 65th period 105th period, 1 count of 10-hour shift needed\n",
      "from 79th period 119th period, 1 count of 10-hour shift needed\n",
      "from 82th period 122th period, 1 count of 10-hour shift needed\n",
      "from 119th period 159th period, 1 count of 10-hour shift needed\n",
      "from 122th period 162th period, 1 count of 10-hour shift needed\n",
      "from 130th period 170th period, 2 count of 10-hour shift needed\n",
      "from 131th period 171th period, 2 count of 10-hour shift needed\n",
      "from 135th period 175th period, 2 count of 10-hour shift needed\n",
      "from 139th period 179th period, 1 count of 10-hour shift needed\n",
      "from 160th period 200th period, 2 count of 10-hour shift needed\n",
      "from 171th period 211th period, 1 count of 10-hour shift needed\n",
      "from 176th period 216th period, 1 count of 10-hour shift needed\n",
      "from 181th period 221th period, 1 count of 10-hour shift needed\n",
      "from 216th period 256th period, 1 count of 10-hour shift needed\n",
      "from 220th period 260th period, 1 count of 10-hour shift needed\n",
      "from 221th period 261th period, 1 count of 10-hour shift needed\n",
      "from 222th period 262th period, 2 count of 10-hour shift needed\n",
      "from 228th period 268th period, 1 count of 10-hour shift needed\n",
      "from 233th period 273th period, 1 count of 10-hour shift needed\n",
      "from 249th period 289th period, 1 count of 10-hour shift needed\n",
      "from 256th period 296th period, 1 count of 10-hour shift needed\n",
      "from 260th period 300th period, 1 count of 10-hour shift needed\n",
      "from 261th period 301th period, 1 count of 10-hour shift needed\n",
      "from 262th period 302th period, 2 count of 10-hour shift needed\n",
      "from 302th period 342th period, 1 count of 10-hour shift needed\n",
      "from 308th period 348th period, 1 count of 10-hour shift needed\n",
      "from 311th period 351th period, 2 count of 10-hour shift needed\n",
      "from 324th period 364th period, 2 count of 10-hour shift needed\n",
      "from 328th period 368th period, 1 count of 10-hour shift needed\n",
      "from 334th period 374th period, 2 count of 10-hour shift needed\n",
      "from 348th period 388th period, 3 count of 10-hour shift needed\n",
      "from 388th period 428th period, 1 count of 10-hour shift needed\n",
      "from 398th period 438th period, 1 count of 10-hour shift needed\n",
      "from 407th period 447th period, 1 count of 10-hour shift needed\n",
      "from 408th period 448th period, 1 count of 10-hour shift needed\n",
      "from 413th period 453th period, 1 count of 10-hour shift needed\n",
      "from 416th period 456th period, 1 count of 10-hour shift needed\n",
      "from 418th period 458th period, 2 count of 10-hour shift needed\n",
      "from 419th period 459th period, 1 count of 10-hour shift needed\n",
      "from 438th period 478th period, 1 count of 10-hour shift needed\n",
      "from 448th period 488th period, 1 count of 10-hour shift needed\n",
      "from 449th period 489th period, 1 count of 10-hour shift needed\n",
      "from 458th period 498th period, 1 count of 10-hour shift needed\n",
      "from 459th period 499th period, 1 count of 10-hour shift needed\n",
      "from 498th period 538th period, 1 count of 10-hour shift needed\n",
      "from 499th period 539th period, 1 count of 10-hour shift needed\n",
      "from 502th period 542th period, 1 count of 10-hour shift needed\n",
      "from 504th period 544th period, 1 count of 10-hour shift needed\n",
      "from 509th period 549th period, 1 count of 10-hour shift needed\n",
      "from 512th period 552th period, 2 count of 10-hour shift needed\n",
      "from 518th period 558th period, 1 count of 10-hour shift needed\n",
      "from 528th period 568th period, 1 count of 10-hour shift needed\n",
      "from 540th period 580th period, 2 count of 10-hour shift needed\n",
      "from 541th period 581th period, 1 count of 10-hour shift needed\n",
      "from 553th period 593th period, 1 count of 10-hour shift needed\n",
      "from 593th period 633th period, 1 count of 10-hour shift needed\n",
      "from 594th period 634th period, 1 count of 10-hour shift needed\n",
      "from 599th period 639th period, 1 count of 10-hour shift needed\n",
      "from 600th period 640th period, 1 count of 10-hour shift needed\n",
      "from 607th period 647th period, 2 count of 10-hour shift needed\n",
      "from 626th period 666th period, 1 count of 10-hour shift needed\n",
      "from 630th period 670th period, 1 count of 10-hour shift needed\n",
      "from 634th period 674th period, 2 count of 10-hour shift needed\n",
      "from 639th period 679th period, 1 count of 10-hour shift needed\n",
      "from 641th period 681th period, 1 count of 10-hour shift needed\n",
      "from 647th period 687th period, 1 count of 10-hour shift needed\n",
      "from 684th period 724th period, 1 count of 10-hour shift needed\n",
      "from 687th period 727th period, 1 count of 10-hour shift needed\n",
      "from 699th period 739th period, 1 count of 10-hour shift needed\n",
      "from 706th period 746th period, 3 count of 10-hour shift needed\n",
      "from 713th period 753th period, 1 count of 10-hour shift needed\n",
      "from 714th period 754th period, 1 count of 10-hour shift needed\n",
      "from 733th period 773th period, 1 count of 10-hour shift needed\n",
      "from 735th period 775th period, 1 count of 10-hour shift needed\n",
      "from 736th period 776th period, 1 count of 10-hour shift needed\n",
      "from 737th period 777th period, 1 count of 10-hour shift needed\n",
      "from 751th period 791th period, 1 count of 10-hour shift needed\n",
      "from 790th period 830th period, 1 count of 10-hour shift needed\n",
      "from 791th period 831th period, 1 count of 10-hour shift needed\n",
      "from 802th period 842th period, 2 count of 10-hour shift needed\n",
      "from 803th period 843th period, 2 count of 10-hour shift needed\n",
      "from 807th period 847th period, 2 count of 10-hour shift needed\n",
      "from 811th period 851th period, 1 count of 10-hour shift needed\n",
      "from 831th period 871th period, 1 count of 10-hour shift needed\n",
      "from 832th period 872th period, 2 count of 10-hour shift needed\n",
      "from 848th period 888th period, 1 count of 10-hour shift needed\n",
      "from 853th period 893th period, 1 count of 10-hour shift needed\n",
      "from 888th period 928th period, 1 count of 10-hour shift needed\n",
      "from 892th period 932th period, 1 count of 10-hour shift needed\n",
      "from 893th period 933th period, 1 count of 10-hour shift needed\n",
      "from 894th period 934th period, 2 count of 10-hour shift needed\n",
      "from 900th period 940th period, 1 count of 10-hour shift needed\n",
      "from 905th period 945th period, 1 count of 10-hour shift needed\n",
      "from 921th period 961th period, 1 count of 10-hour shift needed\n",
      "from 928th period 968th period, 1 count of 10-hour shift needed\n",
      "from 932th period 972th period, 1 count of 10-hour shift needed\n",
      "from 933th period 973th period, 1 count of 10-hour shift needed\n",
      "from 934th period 974th period, 2 count of 10-hour shift needed\n",
      "from 974th period 1014th period, 1 count of 10-hour shift needed\n",
      "from 980th period 1020th period, 1 count of 10-hour shift needed\n",
      "from 983th period 1023th period, 2 count of 10-hour shift needed\n",
      "from 996th period 1036th period, 2 count of 10-hour shift needed\n",
      "from 1000th period 1040th period, 1 count of 10-hour shift needed\n",
      "from 1006th period 1046th period, 2 count of 10-hour shift needed\n",
      "from 1020th period 1060th period, 3 count of 10-hour shift needed\n",
      "from 1055th period 1095th period, 1 count of 10-hour shift needed\n",
      "from 1060th period 1100th period, 1 count of 10-hour shift needed\n",
      "from 1079th period 1119th period, 1 count of 10-hour shift needed\n",
      "from 1080th period 1120th period, 1 count of 10-hour shift needed\n",
      "from 1085th period 1125th period, 1 count of 10-hour shift needed\n",
      "from 1088th period 1128th period, 1 count of 10-hour shift needed\n",
      "from 1090th period 1130th period, 2 count of 10-hour shift needed\n",
      "from 1091th period 1131th period, 1 count of 10-hour shift needed\n",
      "from 1094th period 1134th period, 1 count of 10-hour shift needed\n",
      "from 1120th period 1160th period, 1 count of 10-hour shift needed\n",
      "from 1121th period 1161th period, 1 count of 10-hour shift needed\n",
      "from 1130th period 1170th period, 1 count of 10-hour shift needed\n",
      "from 1131th period 1171th period, 1 count of 10-hour shift needed\n",
      "from 1170th period 1210th period, 1 count of 10-hour shift needed\n",
      "from 1171th period 1211th period, 1 count of 10-hour shift needed\n",
      "from 1174th period 1214th period, 1 count of 10-hour shift needed\n",
      "from 1176th period 1216th period, 1 count of 10-hour shift needed\n",
      "from 1181th period 1221th period, 1 count of 10-hour shift needed\n",
      "from 1184th period 1224th period, 2 count of 10-hour shift needed\n",
      "from 1187th period 1227th period, 1 count of 10-hour shift needed\n",
      "from 1200th period 1240th period, 1 count of 10-hour shift needed\n",
      "from 1212th period 1252th period, 2 count of 10-hour shift needed\n",
      "from 1213th period 1253th period, 1 count of 10-hour shift needed\n",
      "from 1224th period 1264th period, 1 count of 10-hour shift needed\n",
      "from 1244th period 1284th period, 3 count of 10-hour shift needed\n",
      "from 1258th period 1298th period, 1 count of 10-hour shift needed\n",
      "from 1263th period 1303th period, 1 count of 10-hour shift needed\n",
      "from 1277th period 1317th period, 1 count of 10-hour shift needed\n",
      "from 1283th period 1323th period, 1 count of 10-hour shift needed\n",
      "from 1284th period 1324th period, 2 count of 10-hour shift needed\n",
      "from 1298th period 1338th period, 2 count of 10-hour shift needed\n",
      "from 1300th period 1340th period, 1 count of 10-hour shift needed\n",
      "from 1305th period 1345th period, 1 count of 10-hour shift needed\n",
      "\n"
     ]
    }
   ],
   "source": [
    "# When does shifts start?\n",
    "## Note that first shift will be printed as \"1\" and not \"0\"\n",
    "distribution_text = \"\"\n",
    "\n",
    "for i in i_indices:\n",
    "    for t in t_indices:\n",
    "        if X[i, t].x != 0:\n",
    "            if i == 0:\n",
    "                distribution_text += f\"from {t+1}th period {t+33}th period, {int(X[i, t].x)} count of 8-hour shift needed\\n\"\n",
    "            if i == 1:\n",
    "                distribution_text += f\"from {t+1}th period {t+41}th period, {int(X[i, t].x)} count of 10-hour shift needed\\n\"\n",
    "\n",
    "print(distribution_text)"
   ]
  },
  {
   "cell_type": "code",
   "execution_count": 111,
   "id": "e67dd3ae",
   "metadata": {},
   "outputs": [
    {
     "name": "stdout",
     "output_type": "stream",
     "text": [
      "0\n"
     ]
    }
   ],
   "source": [
    "# How many 8-hours shifts are required?\n",
    "count_8_hours = 0\n",
    "for t in t_indices:\n",
    "    if X[0, t].x != 0:\n",
    "            count_8_hours = count_8_hours + X[i, t].x\n",
    "\n",
    "print(int(count_8_hours))"
   ]
  },
  {
   "cell_type": "code",
   "execution_count": 112,
   "id": "97295baf",
   "metadata": {},
   "outputs": [
    {
     "name": "stdout",
     "output_type": "stream",
     "text": [
      "185\n"
     ]
    }
   ],
   "source": [
    "# How many 10-hours shifts are required?\n",
    "count_10_hours = 0\n",
    "for t in t_indices:\n",
    "    if X[1, t].x != 0:\n",
    "            count_10_hours = count_10_hours + X[i, t].x\n",
    "\n",
    "print(int(count_10_hours))"
   ]
  },
  {
   "cell_type": "code",
   "execution_count": 113,
   "id": "a4aad908",
   "metadata": {},
   "outputs": [],
   "source": [
    "file_path = \"PatelPatelBhandari.txt\""
   ]
  },
  {
   "cell_type": "code",
   "execution_count": 114,
   "id": "4772a003",
   "metadata": {},
   "outputs": [],
   "source": [
    "#with open(file_path, \"w\") as file: pass"
   ]
  },
  {
   "cell_type": "code",
   "execution_count": 115,
   "id": "c1614dce",
   "metadata": {},
   "outputs": [],
   "source": [
    "with open(file_path, \"a\") as file:\n",
    "    file.write(f\"For data obtained from {data_file_name}:\\n\\n\")\n",
    "    file.write(\"Model Status:\\n\")\n",
    "    file.write(model_status)\n",
    "    file.write(\"\\n\")\n",
    "    file.write(\"Shift_Distribution_Problem_results:\\n\")\n",
    "    file.write(distribution_text)\n",
    "    file.write(\"\\n\\n--XX--XX--XX--XX--XX--XX--XX--XX--XX--XX--XX--XX--XX--\\n\\n\")"
   ]
  },
  {
   "cell_type": "code",
   "execution_count": null,
   "id": "e699c73a",
   "metadata": {},
   "outputs": [],
   "source": []
  },
  {
   "cell_type": "code",
   "execution_count": null,
   "id": "85638364",
   "metadata": {},
   "outputs": [],
   "source": []
  }
 ],
 "metadata": {
  "kernelspec": {
   "display_name": "Python 3 (ipykernel)",
   "language": "python",
   "name": "python3"
  },
  "language_info": {
   "codemirror_mode": {
    "name": "ipython",
    "version": 3
   },
   "file_extension": ".py",
   "mimetype": "text/x-python",
   "name": "python",
   "nbconvert_exporter": "python",
   "pygments_lexer": "ipython3",
   "version": "3.9.7"
  }
 },
 "nbformat": 4,
 "nbformat_minor": 5
}
